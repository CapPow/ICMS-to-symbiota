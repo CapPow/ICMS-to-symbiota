{
 "cells": [
  {
   "cell_type": "code",
   "execution_count": 12,
   "metadata": {},
   "outputs": [],
   "source": [
    "import pandas as pd\n",
    "import numpy as np\n",
    "import re  # numeric extraction\n",
    "from datetime import datetime # date alignment\n",
    "import requests # make request to Taxonomic Resolution service \"http://tnrs.iplantcollaborative.org/api.html\"\n",
    "from requests_futures.sessions import FuturesSession # used to speed up ITIS API calls (by doing multiple at once)\n",
    "import json # decode that request"
   ]
  },
  {
   "cell_type": "markdown",
   "metadata": {},
   "source": [
    "## Step 1: correct misaligned data\n",
    "\n",
    "- A misaligned row is one in which the columns are all shifted left or right.\n",
    "    - This only identifies them by checking a for predictable conditions in specific columns.\n",
    "- This step requires the user to:\n",
    "    - enter the file name to clean as \"inputDataName\"\n",
    "    - manually correct the misaligned rows using a spreadsheet editor program\n",
    "    - Save the edits as a .csv file and enter that file name"
   ]
  },
  {
   "cell_type": "code",
   "execution_count": 13,
   "metadata": {},
   "outputs": [
    {
     "name": "stdout",
     "output_type": "stream",
     "text": [
      "WARNING! Identified 12 Misaligned rows. A Report was generated.\n"
     ]
    }
   ],
   "source": [
    "# Enter the name of the input file following the \" = \" below using quotations and the extension (ie: \"records.csv\")\n",
    "inputDataName = 'ICMS DATA UT Chattanooga Citizen Science Digitization.csv'\n",
    "\n",
    "\n",
    "######################################################################################\n",
    "\n",
    "# first load in the file as a dataframe 'df'\n",
    "df = pd.read_csv(inputDataName, dtype = 'str')\n",
    "\n",
    "def genProblemDF(df):\n",
    "    ''' This function accepts a dataframe with ICMS headders \n",
    "        and returns any potentially misaligned rows'''\n",
    "\n",
    "    problemDF = df[~(df['Kingdom'].str.upper() == 'PLANTAE') |\n",
    "               ~(df['Family'].str.contains('ACEAE', na=False, case=False)) |\n",
    "               ~(df['Object Status'].str.contains('STORAGE', na=False, case=False)) |\n",
    "               ~(df['Status Date'].str.isnumeric().notna()) |\n",
    "               ~(df['TSN'].str.isnumeric().notna()) ].copy()\n",
    "\n",
    "    # replace empty values with an empty string\n",
    "    problemDF.fillna('', inplace=True)\n",
    "    \n",
    "    return problemDF\n",
    "problemDF = genProblemDF(df)\n",
    "    \n",
    "# count how many problem records were identified.\n",
    "problemCount = problemDF.shape[0]\n",
    "\n",
    "# if there are issues, print a warning and output a report.\n",
    "if problemCount > 0:\n",
    "    problemDF.to_csv('Misaligned Rows {}'.format(inputDataName), encoding = 'utf-8', index=False)\n",
    "    print('WARNING! Identified {} Misaligned rows. A Report was generated.'.format(problemCount))\n",
    "\n",
    "# if there are no problems, more along\n",
    "else:\n",
    "    print('No misalignment identified! You can skip the rest of this step.')"
   ]
  },
  {
   "cell_type": "markdown",
   "metadata": {},
   "source": [
    "#### Now manually fix the misaligned rows\n",
    "- open the \"Misaligned Rows .... .csv\" and make the necessary corrections manually. Most of these errors where from a researcher attempting to use multiple columns for names instead of comma seperation shifting all the columns over.\n",
    "\n",
    "- Save the corrections in the same folder\n",
    "\n",
    "- Enter the file name for the saved corrections with quotations and the extension (ie: 'alignment corrections.csv')"
   ]
  },
  {
   "cell_type": "code",
   "execution_count": 14,
   "metadata": {},
   "outputs": [
    {
     "name": "stdout",
     "output_type": "stream",
     "text": [
      "No problems found, saving the cleaned records as \"Cleaned ICMS DATA UT Chattanooga Citizen Science Digitization.csv\"\n"
     ]
    }
   ],
   "source": [
    "# Enter the file name for the saved corrections with quotations and the extension (ie: 'alignment corrections.csv')\n",
    "correctedFileName = 'Corrected Misaligned Rows.csv'\n",
    "\n",
    "######################################################################################\n",
    "\n",
    "\n",
    "corrections = pd.read_csv(correctedFileName, dtype = 'str')\n",
    "\n",
    "correctionProblemCount = genProblemDF(corrections).shape[0]\n",
    "\n",
    "if correctionProblemCount > 0:\n",
    "    print('{} Misalignment(s) still in \"{}\"'.format(correctionProblemCount, correctedFileName))\n",
    "    print('These must be fixed before moving on.')\n",
    "    print('You can correct the remaining misalignments in \"{}\" instead of starting over'.format(correctedFileName))\n",
    "\n",
    "else:\n",
    "    df = pd.concat([corrections,df]).drop_duplicates(['Catalog #'],keep='first')\n",
    "    dfName = 'Cleaned {}'.format(inputDataName)\n",
    "    df.to_csv(dfName, encoding = 'utf-8', index=False)\n",
    "    print('No problems found, saving the cleaned records as \"{}\"'.format(dfName))"
   ]
  },
  {
   "cell_type": "markdown",
   "metadata": {},
   "source": [
    "## Step 2: retrieve the TSN numbers\n",
    "\n",
    "- Uses ITIS's \"getITISTermsFromScientificName\" API service\n",
    "    - https://www.itis.gov/ws_searchApiDescription.html#getItisTermsfmSciName\n",
    "\n",
    "- This step uses the existing 'df' made after correctly applying corrections from step 1\n",
    "\n",
    "- This step requires the user to \n"
   ]
  },
  {
   "cell_type": "code",
   "execution_count": 15,
   "metadata": {},
   "outputs": [
    {
     "name": "stdout",
     "output_type": "stream",
     "text": [
      "Retrieved 0 previously empty TSN numbers from a total of 952 records\n",
      "WARNING! Identified 399 MisMatched TSNs. A Report was generated.\n",
      "\n"
     ]
    }
   ],
   "source": [
    "def get_JSON(row):\n",
    "    \"\"\"expects row data delivered as series returns a TSN from itis\"\"\"\n",
    "    potCols = ['Sci. Name:Genus','Sci. Name:Species','Sci. Name:Subspecies','Sci. Name:Variety'] # group of potentitally useful column names\n",
    "\n",
    "    # ITIS Expects 'ssp.' or 'var.' as part of the query for infraspecific taxa.\n",
    "    if (row['Sci. Name:Subspecies'] != '') and ('ssp.' not in row['Sci. Name:Subspecies']):\n",
    "        row['Sci. Name:Subspecies'] = 'ssp. ' + row['Sci. Name:Subspecies']\n",
    "        \n",
    "    if (row['Sci. Name:Variety'] != '') and ('var.' not in row['Sci. Name:Variety']):\n",
    "        row['Sci. Name:Variety'] = 'var. ' + row['Sci. Name:Variety']\n",
    "        \n",
    "    potCols = [row[x].rstrip() for x in potCols] # convert column names to values at those columns\n",
    "    colList = [x for x in potCols if not (pd.isnull(x) or x == '')] # only keep stuff which is not empty\n",
    "\n",
    "    queryName = ' '.join(colList)\n",
    "    queryName = queryName.replace(' ', '%20')\n",
    "    url = 'https://www.itis.gov/ITISWebService/jsonservice/getITISTermsFromScientificName?srchKey={}'.format(queryName)\n",
    "    \n",
    "    session = FuturesSession()\n",
    "    result = session.get(url=url).result().json()\n",
    "    return result\n",
    "\n",
    "def parse_TSN(result):\n",
    "\n",
    "    try:\n",
    "        TSN = result.get('itisTerms')[0].get('tsn')\n",
    "    except AttributeError:\n",
    "        # if the ITIS query returns with no results it fills in a blank.\n",
    "        # An alternative here would be to query again based on the first word (presumably a genus)\n",
    "        # and fill in the Genus TSN number.\n",
    "        # Another option would be to run the name through iPlant API to check for typos.\n",
    "        TSN = ''\n",
    "\n",
    "    return TSN\n",
    "\n",
    "\n",
    "df = df.fillna('')\n",
    "\n",
    "df['new_TSN'] = df.apply(get_JSON, axis=1).apply(parse_TSN)\n",
    "    \n",
    "# Count how many we found and report it.\n",
    "filledTSN = df[(df['TSN'] == '') & (df['new_TSN'] != '')].shape[0]\n",
    "print('Retrieved {} previously empty TSN numbers from a total of {} records'.format(filledTSN, df.shape[0]))\n",
    "\n",
    "# Identify every instance in which the existing TSN value did not match the retrieved one.\n",
    "problemDF = df[(df['TSN'] != df['new_TSN']) & (df['TSN'] != '')]\n",
    "problemDF = problemDF[['Catalog #','Family', 'Sci. Name', 'Sci. Name:Genus','Sci. Name:Species','Sci. Name:Subspecies','Sci. Name:Variety','TSN','new_TSN']]\n",
    "\n",
    "# count how many problems were identified.\n",
    "problemCount = problemDF.shape[0]\n",
    "\n",
    "# if there are issues, print a warning and output a report.\n",
    "if problemCount > 0:\n",
    "    problemDF.to_csv('MisMatched TSN {}'.format(inputDataName), encoding = 'utf-8', index=False)\n",
    "    print('WARNING! Identified {} MisMatched TSNs. A Report was generated.'.format(problemCount))\n",
    "    print('')\n",
    "\n",
    "# if there are no problems, more along\n",
    "else:\n",
    "    print('ALL TSNs Matched! Nice work.')"
   ]
  },
  {
   "cell_type": "code",
   "execution_count": 24,
   "metadata": {},
   "outputs": [],
   "source": [
    "# temp only here to avoid re-running api for testing.\n",
    "#df.to_csv('postAPI.csv', encoding = 'utf-8')"
   ]
  },
  {
   "cell_type": "markdown",
   "metadata": {},
   "source": [
    "#### Now manually fix the mismatched TSNs\n",
    "\n",
    "- open the \"MisMatched TSN .... .csv\" and decide which TSN column to keep either the original 'TSN' or the 'new_TSN'.\n",
    "    - All the values from the column you choose will be added to the rows which disagree\n",
    "    - If you want to keep a mix of both, you can manually change whichever column you plan to pick.\n",
    "\n",
    "- Save the corrections in the same folder\n",
    "\n",
    "- Enter the file name for the saved corrections with quotations and the extension (ie: 'Corrected TSN.csv')\n",
    "\n",
    "- Select which column you plan to keep"
   ]
  },
  {
   "cell_type": "code",
   "execution_count": 23,
   "metadata": {},
   "outputs": [
    {
     "name": "stdout",
     "output_type": "stream",
     "text": [
      "Saving the cleaned records as \"Cleaned ICMS DATA UT Chattanooga Citizen Science Digitization.csv\"\n"
     ]
    }
   ],
   "source": [
    "# enter the file name for the TSN Corrections file after the equals sign, using quotes\n",
    "correctedFileName = 'Corrected TSN.csv'\n",
    "\n",
    "# enter the name of the column to keep using quotes (case sensative)\n",
    "# the options are the initial 'TSN' or the newly retrieved 'new_TSN'\n",
    "#columnToKeep = 'TSN'\n",
    "columnToKeep = 'new_TSN'\n",
    "######################################################################################\n",
    "\n",
    "\n",
    "corrections = pd.read_csv(correctedFileName, dtype = 'str').fillna('')\n",
    "\n",
    "try:\n",
    "    if columnToKeep == 'TSN':\n",
    "        # if you choose to keep the initial TSN values, copy them over 'new_TSN.'\n",
    "        corrections['new_TSN'] = corrections[columnToKeep]\n",
    "        \n",
    "    # insert the corrections as 'TSN'\n",
    "    df = pd.concat([corrections,df], sort=False).drop_duplicates(['Catalog #'],keep='first')\n",
    "    \n",
    "    # When it is not empty, copy the 'new_TSN' column into 'TSN'\n",
    "    #df.loc[df['new_TSN']]\n",
    "    \n",
    "    def fillTSN(row):\n",
    "        row = row.fillna('')\n",
    "        if row['new_TSN'] != '':\n",
    "            result = row['new_TSN']\n",
    "        else:\n",
    "            result = row['TSN']\n",
    "            \n",
    "        return result\n",
    "    \n",
    "    df['TSN'] = df.apply(fillTSN, axis=1)\n",
    "    \n",
    "    # df.loc[df['new_TSN'] != '','TSN'] = df.loc[df['new_TSN'] != '','new_TSN']\n",
    "    \n",
    "    # drop 'new_TSN' from the dataframe\n",
    "    df = df.drop(columns=['new_TSN'])\n",
    "    \n",
    "    dfName = 'Cleaned {}'.format(inputDataName)\n",
    "    df.to_csv(dfName, encoding = 'utf-8', index=False)\n",
    "    print('Saving the cleaned records as \"{}\"'.format(dfName))\n",
    "\n",
    "except KeyError as e: \n",
    "    print(e)\n",
    "    print('Process halted! {} does not appear to be a column name in {}'.format(columnToKeep, correctedFileName))\n",
    "    print('Check the columnToKeep name and try again')"
   ]
  },
  {
   "cell_type": "code",
   "execution_count": null,
   "metadata": {},
   "outputs": [],
   "source": []
  }
 ],
 "metadata": {
  "kernelspec": {
   "display_name": "Python 3",
   "language": "python",
   "name": "python3"
  },
  "language_info": {
   "codemirror_mode": {
    "name": "ipython",
    "version": 3
   },
   "file_extension": ".py",
   "mimetype": "text/x-python",
   "name": "python",
   "nbconvert_exporter": "python",
   "pygments_lexer": "ipython3",
   "version": "3.6.5"
  }
 },
 "nbformat": 4,
 "nbformat_minor": 2
}
